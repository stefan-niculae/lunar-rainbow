{
 "cells": [
  {
   "cell_type": "code",
   "execution_count": 4,
   "metadata": {},
   "outputs": [],
   "source": [
    "import random\n",
    "import numpy as np\n",
    "import pandas as pd\n",
    "import gym\n",
    "\n",
    "# import matplotlib.pyplot as plt\n",
    "# %matplotlib inline"
   ]
  },
  {
   "cell_type": "code",
   "execution_count": 25,
   "metadata": {},
   "outputs": [
    {
     "name": "stdout",
     "output_type": "stream",
     "text": [
      "\u001b[33mWARN: gym.spaces.Box autodetected dtype as <class 'numpy.float32'>. Please provide explicit dtype.\u001b[0m\n"
     ]
    }
   ],
   "source": [
    "env = gym.make('LunarLander-v2')\n",
    "# env = gym.make('CartPole-v1')\n",
    "\n",
    "n_a = env.action_space.n"
   ]
  },
  {
   "cell_type": "code",
   "execution_count": 26,
   "metadata": {},
   "outputs": [],
   "source": [
    "n_obs = 1_000_000\n",
    "obs = []\n",
    "rs = []"
   ]
  },
  {
   "cell_type": "code",
   "execution_count": 27,
   "metadata": {},
   "outputs": [
    {
     "name": "stdout",
     "output_type": "stream",
     "text": [
      "CPU times: user 2min 43s, sys: 1.69 s, total: 2min 45s\n",
      "Wall time: 2min 45s\n"
     ]
    }
   ],
   "source": [
    "%%time\n",
    "s = env.reset()\n",
    "for i in range(n_obs):\n",
    "    a = random.randint(0, n_a-1)\n",
    "    s, r, done, _ = env.step(a)\n",
    "    \n",
    "    obs.append(s)\n",
    "    rs.append(r)\n",
    "    if done:\n",
    "        s = env.reset()"
   ]
  },
  {
   "cell_type": "code",
   "execution_count": 28,
   "metadata": {},
   "outputs": [
    {
     "data": {
      "text/html": [
       "<div>\n",
       "<style scoped>\n",
       "    .dataframe tbody tr th:only-of-type {\n",
       "        vertical-align: middle;\n",
       "    }\n",
       "\n",
       "    .dataframe tbody tr th {\n",
       "        vertical-align: top;\n",
       "    }\n",
       "\n",
       "    .dataframe thead th {\n",
       "        text-align: right;\n",
       "    }\n",
       "</style>\n",
       "<table border=\"1\" class=\"dataframe\">\n",
       "  <thead>\n",
       "    <tr style=\"text-align: right;\">\n",
       "      <th></th>\n",
       "      <th>0</th>\n",
       "      <th>1</th>\n",
       "      <th>2</th>\n",
       "      <th>3</th>\n",
       "      <th>4</th>\n",
       "      <th>5</th>\n",
       "      <th>6</th>\n",
       "      <th>7</th>\n",
       "    </tr>\n",
       "  </thead>\n",
       "  <tbody>\n",
       "    <tr>\n",
       "      <th>count</th>\n",
       "      <td>1000000.000000</td>\n",
       "      <td>1000000.000000</td>\n",
       "      <td>1000000.000000</td>\n",
       "      <td>1000000.000000</td>\n",
       "      <td>1000000.000000</td>\n",
       "      <td>1000000.000000</td>\n",
       "      <td>1000000.000000</td>\n",
       "      <td>1000000.000000</td>\n",
       "    </tr>\n",
       "    <tr>\n",
       "      <th>mean</th>\n",
       "      <td>0.003150</td>\n",
       "      <td>0.634126</td>\n",
       "      <td>0.005854</td>\n",
       "      <td>-0.667465</td>\n",
       "      <td>-0.002415</td>\n",
       "      <td>-0.002020</td>\n",
       "      <td>0.025984</td>\n",
       "      <td>0.025582</td>\n",
       "    </tr>\n",
       "    <tr>\n",
       "      <th>std</th>\n",
       "      <td>0.311699</td>\n",
       "      <td>0.317412</td>\n",
       "      <td>0.628485</td>\n",
       "      <td>0.478753</td>\n",
       "      <td>0.508518</td>\n",
       "      <td>0.524295</td>\n",
       "      <td>0.159088</td>\n",
       "      <td>0.157885</td>\n",
       "    </tr>\n",
       "    <tr>\n",
       "      <th>min</th>\n",
       "      <td>-1.023864</td>\n",
       "      <td>-0.319619</td>\n",
       "      <td>-2.430522</td>\n",
       "      <td>-2.436827</td>\n",
       "      <td>-4.872115</td>\n",
       "      <td>-8.609914</td>\n",
       "      <td>0.000000</td>\n",
       "      <td>0.000000</td>\n",
       "    </tr>\n",
       "    <tr>\n",
       "      <th>1%</th>\n",
       "      <td>-0.818495</td>\n",
       "      <td>-0.043480</td>\n",
       "      <td>-1.371112</td>\n",
       "      <td>-1.561670</td>\n",
       "      <td>-1.509651</td>\n",
       "      <td>-1.260038</td>\n",
       "      <td>0.000000</td>\n",
       "      <td>0.000000</td>\n",
       "    </tr>\n",
       "    <tr>\n",
       "      <th>2%</th>\n",
       "      <td>-0.711782</td>\n",
       "      <td>-0.015764</td>\n",
       "      <td>-1.210484</td>\n",
       "      <td>-1.498326</td>\n",
       "      <td>-1.198193</td>\n",
       "      <td>-0.592989</td>\n",
       "      <td>0.000000</td>\n",
       "      <td>0.000000</td>\n",
       "    </tr>\n",
       "    <tr>\n",
       "      <th>25%</th>\n",
       "      <td>-0.154519</td>\n",
       "      <td>0.392282</td>\n",
       "      <td>-0.488957</td>\n",
       "      <td>-1.052859</td>\n",
       "      <td>-0.189665</td>\n",
       "      <td>-0.142257</td>\n",
       "      <td>0.000000</td>\n",
       "      <td>0.000000</td>\n",
       "    </tr>\n",
       "    <tr>\n",
       "      <th>50%</th>\n",
       "      <td>0.001549</td>\n",
       "      <td>0.718502</td>\n",
       "      <td>0.004032</td>\n",
       "      <td>-0.681848</td>\n",
       "      <td>-0.000563</td>\n",
       "      <td>-0.000581</td>\n",
       "      <td>0.000000</td>\n",
       "      <td>0.000000</td>\n",
       "    </tr>\n",
       "    <tr>\n",
       "      <th>75%</th>\n",
       "      <td>0.162044</td>\n",
       "      <td>0.910141</td>\n",
       "      <td>0.497354</td>\n",
       "      <td>-0.305608</td>\n",
       "      <td>0.186221</td>\n",
       "      <td>0.139744</td>\n",
       "      <td>0.000000</td>\n",
       "      <td>0.000000</td>\n",
       "    </tr>\n",
       "    <tr>\n",
       "      <th>98%</th>\n",
       "      <td>0.723159</td>\n",
       "      <td>1.048390</td>\n",
       "      <td>1.230168</td>\n",
       "      <td>0.275435</td>\n",
       "      <td>1.193958</td>\n",
       "      <td>0.586482</td>\n",
       "      <td>1.000000</td>\n",
       "      <td>1.000000</td>\n",
       "    </tr>\n",
       "    <tr>\n",
       "      <th>99%</th>\n",
       "      <td>0.820374</td>\n",
       "      <td>1.071317</td>\n",
       "      <td>1.391993</td>\n",
       "      <td>0.346398</td>\n",
       "      <td>1.504165</td>\n",
       "      <td>1.244078</td>\n",
       "      <td>1.000000</td>\n",
       "      <td>1.000000</td>\n",
       "    </tr>\n",
       "    <tr>\n",
       "      <th>max</th>\n",
       "      <td>1.020673</td>\n",
       "      <td>1.212551</td>\n",
       "      <td>2.422055</td>\n",
       "      <td>0.602672</td>\n",
       "      <td>5.067727</td>\n",
       "      <td>8.109635</td>\n",
       "      <td>1.000000</td>\n",
       "      <td>1.000000</td>\n",
       "    </tr>\n",
       "  </tbody>\n",
       "</table>\n",
       "</div>"
      ],
      "text/plain": [
       "                    0               1               2               3  \\\n",
       "count  1000000.000000  1000000.000000  1000000.000000  1000000.000000   \n",
       "mean         0.003150        0.634126        0.005854       -0.667465   \n",
       "std          0.311699        0.317412        0.628485        0.478753   \n",
       "min         -1.023864       -0.319619       -2.430522       -2.436827   \n",
       "1%          -0.818495       -0.043480       -1.371112       -1.561670   \n",
       "2%          -0.711782       -0.015764       -1.210484       -1.498326   \n",
       "25%         -0.154519        0.392282       -0.488957       -1.052859   \n",
       "50%          0.001549        0.718502        0.004032       -0.681848   \n",
       "75%          0.162044        0.910141        0.497354       -0.305608   \n",
       "98%          0.723159        1.048390        1.230168        0.275435   \n",
       "99%          0.820374        1.071317        1.391993        0.346398   \n",
       "max          1.020673        1.212551        2.422055        0.602672   \n",
       "\n",
       "                    4               5               6               7  \n",
       "count  1000000.000000  1000000.000000  1000000.000000  1000000.000000  \n",
       "mean        -0.002415       -0.002020        0.025984        0.025582  \n",
       "std          0.508518        0.524295        0.159088        0.157885  \n",
       "min         -4.872115       -8.609914        0.000000        0.000000  \n",
       "1%          -1.509651       -1.260038        0.000000        0.000000  \n",
       "2%          -1.198193       -0.592989        0.000000        0.000000  \n",
       "25%         -0.189665       -0.142257        0.000000        0.000000  \n",
       "50%         -0.000563       -0.000581        0.000000        0.000000  \n",
       "75%          0.186221        0.139744        0.000000        0.000000  \n",
       "98%          1.193958        0.586482        1.000000        1.000000  \n",
       "99%          1.504165        1.244078        1.000000        1.000000  \n",
       "max          5.067727        8.109635        1.000000        1.000000  "
      ]
     },
     "execution_count": 28,
     "metadata": {},
     "output_type": "execute_result"
    }
   ],
   "source": [
    "pd.DataFrame(obs).describe([.01, .02, .25, .75, .98, .99])#.to_csv('outputs/pole-obs.csv')"
   ]
  },
  {
   "cell_type": "code",
   "execution_count": 29,
   "metadata": {},
   "outputs": [],
   "source": [
    "_28.to_csv('outputs/lander-obs.csv')"
   ]
  },
  {
   "cell_type": "code",
   "execution_count": 30,
   "metadata": {},
   "outputs": [
    {
     "data": {
      "text/plain": [
       "count    1000000.000000\n",
       "mean          -2.459528\n",
       "std           11.084173\n",
       "min         -100.000000\n",
       "25%           -2.741011\n",
       "50%           -1.741845\n",
       "75%           -0.487817\n",
       "max          145.529435\n",
       "dtype: float64"
      ]
     },
     "execution_count": 30,
     "metadata": {},
     "output_type": "execute_result"
    }
   ],
   "source": [
    "pd.Series(rs).describe()"
   ]
  },
  {
   "cell_type": "code",
   "execution_count": 32,
   "metadata": {},
   "outputs": [],
   "source": [
    "rsa = np.array(rs[:1000])"
   ]
  },
  {
   "cell_type": "code",
   "execution_count": 37,
   "metadata": {},
   "outputs": [
    {
     "data": {
      "text/plain": [
       "0.001"
      ]
     },
     "execution_count": 37,
     "metadata": {},
     "output_type": "execute_result"
    }
   ],
   "source": [
    "(rsa >= 100).mean()"
   ]
  }
 ],
 "metadata": {
  "kernelspec": {
   "display_name": "Python 3",
   "language": "python",
   "name": "python3"
  },
  "language_info": {
   "codemirror_mode": {
    "name": "ipython",
    "version": 3
   },
   "file_extension": ".py",
   "mimetype": "text/x-python",
   "name": "python",
   "nbconvert_exporter": "python",
   "pygments_lexer": "ipython3",
   "version": "3.6.5"
  }
 },
 "nbformat": 4,
 "nbformat_minor": 2
}
