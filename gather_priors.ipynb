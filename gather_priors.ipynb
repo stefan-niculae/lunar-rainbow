{
 "cells": [
  {
   "cell_type": "code",
   "execution_count": 1,
   "metadata": {},
   "outputs": [],
   "source": [
    "%load_ext autoreload\n",
    "%autoreload 2"
   ]
  },
  {
   "cell_type": "code",
   "execution_count": 29,
   "metadata": {},
   "outputs": [],
   "source": [
    "import random\n",
    "import numpy as np\n",
    "import pandas as pd\n",
    "\n",
    "import matplotlib.pyplot as plt\n",
    "%matplotlib inline\n",
    "\n",
    "from ql import QL, QLP\n",
    "from dqn import DQN, DQNP\n",
    "from cartpole import CartPole\n",
    "from lunarlander import LunarLander\n",
    "from search_params import space\n",
    "from simulation import compute_scores"
   ]
  },
  {
   "cell_type": "code",
   "execution_count": 31,
   "metadata": {},
   "outputs": [],
   "source": [
    "import os\n",
    "from pathlib import Path\n",
    "import json"
   ]
  },
  {
   "cell_type": "code",
   "execution_count": 18,
   "metadata": {},
   "outputs": [],
   "source": [
    "from skopt import dummy_minimize\n",
    "from skopt.utils import use_named_args"
   ]
  },
  {
   "cell_type": "markdown",
   "metadata": {},
   "source": [
    "---"
   ]
  },
  {
   "cell_type": "code",
   "execution_count": 47,
   "metadata": {},
   "outputs": [
    {
     "name": "stdout",
     "output_type": "stream",
     "text": [
      "\u001b[33mWARN: gym.spaces.Box autodetected dtype as <class 'numpy.float32'>. Please provide explicit dtype.\u001b[0m\n"
     ]
    }
   ],
   "source": [
    "env = LunarLander()\n",
    "agent = DQNP(env)"
   ]
  },
  {
   "cell_type": "code",
   "execution_count": 48,
   "metadata": {},
   "outputs": [
    {
     "data": {
      "text/plain": [
       "{'seed': 42,\n",
       " 'lr_init': 0.005,\n",
       " 'decay_freq': 200,\n",
       " 'lr_decay': 0.1,\n",
       " 'lr_min': 1e-05,\n",
       " 'discount': 0.99,\n",
       " 'history_len': 2,\n",
       " 'idealization': 1,\n",
       " 'policy': 'eps-greedy',\n",
       " 'exploration_start': 1,\n",
       " 'exploration_min': 0.01,\n",
       " 'exploration_anneal_steps': 150,\n",
       " 'exploration_temp': -1,\n",
       " 'double': False,\n",
       " 'target_update_freq': 0,\n",
       " 'dueling': False,\n",
       " 'streams_size': -1,\n",
       " 'layer_sizes': (384, 192),\n",
       " 'loss': 'mse',\n",
       " 'hidden_activation': 'sigmoid',\n",
       " 'out_activation': 'linear',\n",
       " 'input_dropout': 0,\n",
       " 'hidden_dropout': 0,\n",
       " 'batch_normalization': False,\n",
       " 'weights_init': 'lecun_uniform',\n",
       " 'optimizer': 'adam',\n",
       " 'q_clip': (-10000, 10000),\n",
       " 'batch_size': 32,\n",
       " 'n_epochs': 1,\n",
       " 'memory_size': 50000,\n",
       " 'min_mem_size': 1000,\n",
       " 'normalize': False}"
      ]
     },
     "execution_count": 48,
     "metadata": {},
     "output_type": "execute_result"
    }
   ],
   "source": [
    "default_config = agent.config\n",
    "default_config"
   ]
  },
  {
   "cell_type": "markdown",
   "metadata": {},
   "source": [
    "---"
   ]
  },
  {
   "cell_type": "code",
   "execution_count": 24,
   "metadata": {},
   "outputs": [],
   "source": [
    "search_params = None"
   ]
  },
  {
   "cell_type": "code",
   "execution_count": 25,
   "metadata": {},
   "outputs": [],
   "source": [
    "@use_named_args(space)\n",
    "def f(**params):\n",
    "    global search_params\n",
    "    search_params = list(params.keys())\n",
    "    return 0"
   ]
  },
  {
   "cell_type": "code",
   "execution_count": 26,
   "metadata": {},
   "outputs": [],
   "source": [
    "_ = dummy_minimize(f, space, n_calls=1)"
   ]
  },
  {
   "cell_type": "code",
   "execution_count": 27,
   "metadata": {},
   "outputs": [
    {
     "data": {
      "text/plain": [
       "['exploration_start',\n",
       " 'exploration_min',\n",
       " 'exploration_anneal_steps',\n",
       " 'exploration_temp',\n",
       " 'lr_init',\n",
       " 'lr_decay',\n",
       " 'decay_freq',\n",
       " 'idealization',\n",
       " 'discount',\n",
       " 'history_len',\n",
       " 'target_update_freq',\n",
       " 'batch_size',\n",
       " 'n_epochs',\n",
       " 'normalize',\n",
       " 'input_dropout',\n",
       " 'batch_normalization',\n",
       " 'streams_size',\n",
       " 'loss',\n",
       " 'hidden_activation',\n",
       " 'out_activation',\n",
       " 'weights_init',\n",
       " 'optimizer',\n",
       " 'layer_sizes',\n",
       " 'memory_size',\n",
       " 'q_clip']"
      ]
     },
     "execution_count": 27,
     "metadata": {},
     "output_type": "execute_result"
    }
   ],
   "source": [
    "search_params"
   ]
  },
  {
   "cell_type": "markdown",
   "metadata": {},
   "source": [
    "---"
   ]
  },
  {
   "cell_type": "code",
   "execution_count": 13,
   "metadata": {},
   "outputs": [],
   "source": [
    "OUTPUTS_DIR = Path('outputs')\n",
    "valid_names = [f for f in os.listdir(OUTPUTS_DIR) \n",
    "               if 'dqn' in f.lower() and 'lander' in f.lower()]"
   ]
  },
  {
   "cell_type": "code",
   "execution_count": 35,
   "metadata": {},
   "outputs": [
    {
     "data": {
      "text/plain": [
       "270"
      ]
     },
     "execution_count": 35,
     "metadata": {},
     "output_type": "execute_result"
    }
   ],
   "source": [
    "len(valid_names)"
   ]
  },
  {
   "cell_type": "code",
   "execution_count": 97,
   "metadata": {},
   "outputs": [
    {
     "name": "stdout",
     "output_type": "stream",
     "text": [
      "CPU times: user 407 ms, sys: 34.5 ms, total: 442 ms\n",
      "Wall time: 442 ms\n"
     ]
    }
   ],
   "source": [
    "%%time\n",
    "dicts = []\n",
    "for name in valid_names:\n",
    "    run_dict = {'name': name}\n",
    "    run_dict.update(default_config)\n",
    "\n",
    "    try:\n",
    "        with open(OUTPUTS_DIR / name / 'agent.json') as f:\n",
    "            run_dict.update(json.load(f))\n",
    "    except:\n",
    "        continue\n",
    "    if 'prioritize_replay' in run_dict:\n",
    "        continue    \n",
    "\n",
    "    with open(OUTPUTS_DIR / name / 'stats.json') as f:\n",
    "        run_dict.update(json.load(f))\n",
    "    if run_dict['time'] < 1000:\n",
    "        continue\n",
    "\n",
    "    run_dict.update(compute_scores(\n",
    "        train_df=pd.read_csv(OUTPUTS_DIR / name / 'train.csv'),\n",
    "        eval_df=None,\n",
    "    ))\n",
    "    \n",
    "    dicts.append(run_dict)"
   ]
  },
  {
   "cell_type": "code",
   "execution_count": 98,
   "metadata": {},
   "outputs": [
    {
     "data": {
      "text/plain": [
       "190"
      ]
     },
     "execution_count": 98,
     "metadata": {},
     "output_type": "execute_result"
    }
   ],
   "source": [
    "len(dicts)"
   ]
  },
  {
   "cell_type": "code",
   "execution_count": 99,
   "metadata": {},
   "outputs": [],
   "source": [
    "df = pd.DataFrame(dicts)"
   ]
  },
  {
   "cell_type": "code",
   "execution_count": 100,
   "metadata": {},
   "outputs": [],
   "source": [
    "y = df.aggregated"
   ]
  },
  {
   "cell_type": "code",
   "execution_count": 101,
   "metadata": {},
   "outputs": [],
   "source": [
    "x = df[search_params]"
   ]
  },
  {
   "cell_type": "code",
   "execution_count": 102,
   "metadata": {},
   "outputs": [],
   "source": [
    "x.to_csv('prior-xs.csv', index=False)"
   ]
  },
  {
   "cell_type": "code",
   "execution_count": 103,
   "metadata": {},
   "outputs": [],
   "source": [
    "y.to_csv('prior-ys.csv', index=False)"
   ]
  }
 ],
 "metadata": {
  "kernelspec": {
   "display_name": "Python 3",
   "language": "python",
   "name": "python3"
  },
  "language_info": {
   "codemirror_mode": {
    "name": "ipython",
    "version": 3
   },
   "file_extension": ".py",
   "mimetype": "text/x-python",
   "name": "python",
   "nbconvert_exporter": "python",
   "pygments_lexer": "ipython3",
   "version": "3.6.5"
  }
 },
 "nbformat": 4,
 "nbformat_minor": 2
}
